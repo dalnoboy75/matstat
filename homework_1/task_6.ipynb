{
 "cells": [
  {
   "cell_type": "code",
   "execution_count": 77,
   "metadata": {},
   "outputs": [],
   "source": [
    "import numpy as np\n",
    "from random import random\n",
    "import matplotlib.pyplot as plt"
   ]
  },
  {
   "cell_type": "markdown",
   "metadata": {},
   "source": [
    "d)"
   ]
  },
  {
   "cell_type": "code",
   "execution_count": 78,
   "metadata": {},
   "outputs": [
    {
     "data": {
      "text/plain": [
       "array([2.24185014, 1.43636857, 1.00064004, 1.42873213, 1.8512387 ,\n",
       "       1.0194349 , 1.06368539, 1.3400807 , 2.78253   , 1.14123614,\n",
       "       1.48841183, 1.03500398, 1.27758073, 1.71493165, 1.69130955,\n",
       "       1.2268937 , 1.11021831, 2.64286683, 1.29908817, 1.38382671,\n",
       "       1.03360396, 1.22947865, 1.08433077, 1.57348267, 1.15071765,\n",
       "       1.05573159, 1.1297496 , 1.75249355, 1.03784553, 2.07375617,\n",
       "       1.14671141, 1.28738772, 1.18881518, 1.87275527, 1.03047357,\n",
       "       1.06644734, 1.43463867, 1.6800839 , 1.89229949, 1.2276019 ,\n",
       "       1.60094732, 1.07540719, 1.16521449, 2.94370619, 1.32172048,\n",
       "       1.01282277, 1.03577999, 1.13014866, 1.80984384, 1.14962716,\n",
       "       1.28649871, 1.16771502, 1.48912744, 1.0595822 , 1.65562653,\n",
       "       1.46670425, 1.21106017, 1.24638327, 1.00093126, 1.28905504,\n",
       "       1.35535226, 1.34586202, 1.18122676, 1.16515892, 1.117587  ,\n",
       "       1.06288857, 4.35669022, 1.33615318, 1.62771151, 1.03599426,\n",
       "       1.03149846, 1.21574665, 1.0091421 , 1.2087141 , 1.12326078,\n",
       "       1.69120279, 1.08779466, 1.13061572, 1.0003568 , 1.07158331,\n",
       "       1.07816135, 1.07357983, 1.01915781, 1.17581023, 1.03529169,\n",
       "       2.92778888, 1.4402745 , 1.51131038, 1.12116066, 1.11137735,\n",
       "       1.53540909, 1.31917136, 1.07375205, 1.13669581, 1.18117359,\n",
       "       1.01050589, 1.22838212, 1.11040162, 1.21547821, 1.7666313 ])"
      ]
     },
     "execution_count": 78,
     "metadata": {},
     "output_type": "execute_result"
    }
   ],
   "source": [
    "th = 5\n",
    "N = 100\n",
    "\n",
    "sample = np.array([(1-random())**(1/(1-th)) for i in range(N)])\n",
    "\n",
    "sample"
   ]
  },
  {
   "cell_type": "code",
   "execution_count": 79,
   "metadata": {},
   "outputs": [
    {
     "name": "stdout",
     "output_type": "stream",
     "text": [
      "Доверительный интервал: (1.1640880799303825, 1.2540744770253707)\n"
     ]
    }
   ],
   "source": [
    "b = 0.95\n",
    "mean_ln = np.mean([np.log(x) for x in sample])\n",
    "g_th = 2 ** (mean_ln)\n",
    "\n",
    "\n",
    "lb = g_th - 1.96 * g_th * np.log(2) * mean_ln / np.sqrt(N)\n",
    "ub = g_th + 1.96 * g_th * np.log(2) * mean_ln / np.sqrt(N)\n",
    "\n",
    "print(f\"Доверительный интервал: ({lb}, {ub})\")\n"
   ]
  },
  {
   "cell_type": "code",
   "execution_count": 80,
   "metadata": {},
   "outputs": [
    {
     "name": "stdout",
     "output_type": "stream",
     "text": [
      "Доверительный интервал: (3.9352575218474, 5.36637810463867)\n"
     ]
    }
   ],
   "source": [
    "lb = 1 - (1.96 - np.sqrt(N)) / (mean_ln * np.sqrt(N))\n",
    "ub = 1 + (1.96 + np.sqrt(N)) / (mean_ln * np.sqrt(N))\n",
    "asymp = (lb,ub)\n",
    "print(f\"Доверительный интервал: ({lb}, {ub})\")"
   ]
  },
  {
   "cell_type": "markdown",
   "metadata": {},
   "source": [
    "e)"
   ]
  },
  {
   "cell_type": "code",
   "execution_count": 81,
   "metadata": {},
   "outputs": [
    {
     "name": "stdout",
     "output_type": "stream",
     "text": [
      "Непараметрический доверительный интервал: (3.7815118044850653, 5.245175097770595)\n"
     ]
    }
   ],
   "source": [
    "#Непараметрический бутстрап\n",
    "\n",
    "n = 1000\n",
    "h = 1 + 1 / mean_ln\n",
    "\n",
    "bootstrap = []\n",
    "for i in range(n):\n",
    "    choice = np.random.choice(sample, size=N)\n",
    "    bootstrap.append(1 + 1 / (np.mean([np.log(x) for x in choice])) - h)\n",
    "\n",
    "sorted_bootstrap = np.sort(bootstrap)\n",
    "t1 = sorted_bootstrap[int(((1 - b) * 1000) / 2)]\n",
    "t2 = sorted_bootstrap[int(((1 + b) * 1000) / 2)]\n",
    "\n",
    "lb = h - t2\n",
    "ub = h - t1\n",
    "neparam = (lb,ub)\n",
    "print(f\"Непараметрический доверительный интервал: ({lb}, {ub})\")"
   ]
  },
  {
   "cell_type": "code",
   "execution_count": 82,
   "metadata": {},
   "outputs": [
    {
     "name": "stdout",
     "output_type": "stream",
     "text": [
      "Параметрический доверительный интервал: (3.8267697821455195, 5.275252006385348)\n"
     ]
    }
   ],
   "source": [
    "#Параметрический бутстрап\n",
    "\n",
    "n = 50000\n",
    "\n",
    "h = 1 + 1 / mean_ln\n",
    "bootstrap = []\n",
    "\n",
    "for i in range(n):\n",
    "    choice = []\n",
    "    for j in range(N):\n",
    "        y = random()\n",
    "        choice.append((1-y)**(1/(1-h)))\n",
    "    bootstrap.append(1 + 1 / (np.mean([np.log(x) for x in choice])) - h)\n",
    "\n",
    "sorted_bootstrap = np.sort(bootstrap)\n",
    "t1 = sorted_bootstrap[int(((1 - b) * n) / 2)]\n",
    "t2 = sorted_bootstrap[int(((1 + b) * n) / 2)]\n",
    "\n",
    "lb = h - t2\n",
    "ub = h - t1\n",
    "param = (lb,ub)\n",
    "print(f\"Параметрический доверительный интервал: ({lb}, {ub})\")"
   ]
  },
  {
   "cell_type": "markdown",
   "metadata": {},
   "source": [
    "f)"
   ]
  },
  {
   "cell_type": "code",
   "execution_count": 83,
   "metadata": {},
   "outputs": [
    {
     "data": {
      "image/png": "[encoded data removed]",
      "text/plain": [
       "<Figure size 640x480 with 1 Axes>"
      ]
     },
     "metadata": {},
     "output_type": "display_data"
    }
   ],
   "source": [
    "for i, di in enumerate([asymp, neparam, param]):\n",
    "    plt.plot((di[0], di[1]),(i,i))\n",
    "\n",
    "_ = plt.yticks(range(3), [\"Асимтотический\", \"Непараметрический\", \"параметрический\"])"
   ]
  }
 ],
 "metadata": {
  "kernelspec": {
   "display_name": "Python 3",
   "language": "python",
   "name": "python3"
  },
  "language_info": {
   "codemirror_mode": {
    "name": "ipython",
    "version": 3
   },
   "file_extension": ".py",
   "mimetype": "text/x-python",
   "name": "python",
   "nbconvert_exporter": "python",
   "pygments_lexer": "ipython3",
   "version": "3.11.8"
  }
 },
 "nbformat": 4,
 "nbformat_minor": 2
}
