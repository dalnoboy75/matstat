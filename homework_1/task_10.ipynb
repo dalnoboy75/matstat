{
 "cells": [
  {
   "cell_type": "code",
   "execution_count": 33,
   "metadata": {},
   "outputs": [],
   "source": [
    "import numpy as np\n",
    "from scipy.stats import kstwobign, norm"
   ]
  },
  {
   "cell_type": "markdown",
   "metadata": {},
   "source": [
    "a) (Колмогоров)"
   ]
  },
  {
   "cell_type": "code",
   "execution_count": 34,
   "metadata": {},
   "outputs": [
    {
     "data": {
      "text/plain": [
       "0.039681879538114355"
      ]
     },
     "execution_count": 34,
     "metadata": {},
     "output_type": "execute_result"
    }
   ],
   "source": [
    "N = 100\n",
    "\n",
    "sample = np.array([5, 8, 6, 12, 14, 18, 11, 6, 13, 7])\n",
    "\n",
    "Femp = np.array([sum(sample[:i]) for i in range(11)] ) / 100\n",
    "Fravn = np.array([i for i in range(10)]) / 10\n",
    "\n",
    "d = 10 * np.max([max(np.abs(Fravn[i] - Femp[i]), np.abs(Fravn[i] - Femp[i+1])) for i in range(10)])\n",
    "\n",
    "p = kstwobign.sf(d)\n",
    "\n",
    "p\n",
    "\n",
    " "
   ]
  },
  {
   "cell_type": "markdown",
   "metadata": {},
   "source": [
    "0.039681879538114355 < 0.05 => Отвергаем H0"
   ]
  },
  {
   "cell_type": "markdown",
   "metadata": {},
   "source": [
    "б) (Колмогоров)"
   ]
  },
  {
   "cell_type": "code",
   "execution_count": 35,
   "metadata": {},
   "outputs": [
    {
     "data": {
      "text/plain": [
       "0.0148"
      ]
     },
     "execution_count": 35,
     "metadata": {},
     "output_type": "execute_result"
    }
   ],
   "source": [
    "n = 10000\n",
    "bootstrap = []\n",
    "mu = 4.77\n",
    "sigma = np.sqrt(6.34)\n",
    "\n",
    "dw = 10 * np.max([max(np.abs(norm.cdf(i, mu, sigma) - Femp[i]), np.abs(norm.cdf(i, mu, sigma) - Femp[i+1])) for i in range(10)])\n",
    "\n",
    "for i in range(n):\n",
    "    choice = sorted(np.random.normal(mu,sigma, N))\n",
    "    bFemp = np.array([i for i in range(N+1)]) / N\n",
    "    bmu = np.mean(choice)\n",
    "    bsigma = np.std(choice) * N / (N-1)\n",
    "    bootstrap.append(10 * np.max([max(np.abs(norm.cdf(choice[j], bmu, bsigma) - bFemp[j]), np.abs(norm.cdf(choice[j], bmu, bsigma) - bFemp[j+1])) for j in range(100)]))\n",
    "\n",
    "deltas = np.array(bootstrap)\n",
    "p = len(deltas[deltas >= dw]) / n\n",
    "\n",
    "p\n",
    "\n"
   ]
  },
  {
   "cell_type": "markdown",
   "metadata": {},
   "source": [
    "0.0148 < 0.05 => Отвергаем H0"
   ]
  }
 ],
 "metadata": {
  "kernelspec": {
   "display_name": "Python 3",
   "language": "python",
   "name": "python3"
  },
  "language_info": {
   "codemirror_mode": {
    "name": "ipython",
    "version": 3
   },
   "file_extension": ".py",
   "mimetype": "text/x-python",
   "name": "python",
   "nbconvert_exporter": "python",
   "pygments_lexer": "ipython3",
   "version": "3.11.8"
  }
 },
 "nbformat": 4,
 "nbformat_minor": 2
}
