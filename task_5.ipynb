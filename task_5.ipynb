{
 "cells": [
  {
   "cell_type": "code",
   "execution_count": 82,
   "metadata": {},
   "outputs": [],
   "source": [
    "import numpy as np\n",
    "from random import random\n",
    "import matplotlib.pyplot as plt"
   ]
  },
  {
   "cell_type": "markdown",
   "metadata": {},
   "source": [
    "f)"
   ]
  },
  {
   "cell_type": "code",
   "execution_count": 83,
   "metadata": {},
   "outputs": [
    {
     "data": {
      "text/plain": [
       "array([16.43886751, 10.95441661, 14.84549271, 17.70629238, 19.70098955,\n",
       "       16.48021088, 11.61560932, 15.58994584, 16.06153889, 12.22921618,\n",
       "       10.08620072, 13.67720737, 14.38528474, 11.52501823, 10.32620108,\n",
       "       14.54907856, 18.90793751, 13.4536492 , 17.99808156, 17.18149633,\n",
       "       16.74272724, 13.54085582, 16.68651394, 13.75879641, 19.1287288 ,\n",
       "       18.11646232, 19.76003875, 10.61298106, 13.63575252, 19.76334405,\n",
       "       18.14031884, 11.36600427, 19.5873837 , 14.03858605, 17.37622565,\n",
       "       13.50271853, 16.96678787, 14.77470079, 11.19194456, 11.02375621,\n",
       "       13.11011189, 16.55664809, 12.46007317, 13.35191956, 14.42365574,\n",
       "       13.98892591, 12.55824303, 17.32393858, 15.13281911, 16.61111561,\n",
       "       19.39512091, 10.29383038, 13.27794711, 19.8819428 , 16.44894636,\n",
       "       19.85542073, 12.55680699, 12.73457277, 19.61954713, 16.16949547,\n",
       "       11.05985315, 11.2791681 , 14.38503742, 14.3527093 , 19.27687774,\n",
       "       15.72850307, 15.27663098, 16.03089449, 17.55557581, 15.32066727,\n",
       "       15.4105872 , 17.97892041, 16.82220741, 13.67924865, 17.01635493,\n",
       "       15.5886998 , 18.75949265, 13.38103395, 17.98721   , 19.99240005,\n",
       "       17.74199504, 14.52576164, 13.79457481, 17.16382686, 12.32849606,\n",
       "       18.57816097, 19.99972957, 17.62005816, 15.946197  , 17.16723908,\n",
       "       14.25779963, 16.61960294, 18.13979538, 11.95393382, 14.37721955,\n",
       "       14.5386338 , 10.52140161, 18.27578905, 18.98955025, 13.18239863])"
      ]
     },
     "execution_count": 83,
     "metadata": {},
     "output_type": "execute_result"
    }
   ],
   "source": [
    "th = 10\n",
    "N = 100\n",
    "\n",
    "sample = np.array([th*(random()+1) for i in range(N)])\n",
    "\n",
    "sample\n"
   ]
  },
  {
   "cell_type": "code",
   "execution_count": 84,
   "metadata": {},
   "outputs": [
    {
     "name": "stdout",
     "output_type": "stream",
     "text": [
      "Точный доверительный интервал: (10.001130658553478, 10.18428535147021)\n"
     ]
    }
   ],
   "source": [
    "b = 0.95\n",
    "\n",
    "xm = np.max(sample)\n",
    "\n",
    "lb = xm / (1+ ((1+ b)/2) ** (1/N))\n",
    "ub = xm / (1+ ((1- b)/2) ** (1/N))\n",
    "toch = (lb, ub)\n",
    "print(f'Точный доверительный интервал: ({lb}, {ub})')"
   ]
  },
  {
   "cell_type": "code",
   "execution_count": 85,
   "metadata": {},
   "outputs": [
    {
     "name": "stdout",
     "output_type": "stream",
     "text": [
      "Асимптотический доверительный интервал: (9.917554434314592, 10.639547967687175)\n"
     ]
    }
   ],
   "source": [
    "th1 = 2/3 * np.mean(sample)\n",
    "\n",
    "s = np.sqrt(np.sum([(x - np.mean(sample))**2 for x in sample]) /(N-1))\n",
    "\n",
    "lb = th1 - 2*s*1.96*np.sqrt(N-1)/ (3*N)\n",
    "ub = th1 + 2*s*1.96*np.sqrt(N-1)/ (3*N)\n",
    "asymp = (lb, ub)\n",
    "print(f'Асимптотический доверительный интервал: ({lb}, {ub})')"
   ]
  },
  {
   "cell_type": "markdown",
   "metadata": {},
   "source": [
    "g)"
   ]
  },
  {
   "cell_type": "code",
   "execution_count": 86,
   "metadata": {},
   "outputs": [
    {
     "name": "stdout",
     "output_type": "stream",
     "text": [
      "Бутстраповский доверительный интервал: (10.04961535634876, 10.122128755047626)\n"
     ]
    }
   ],
   "source": [
    "n = 10000\n",
    "\n",
    "h = (N+1)* xm / (2*N+1)\n",
    "\n",
    "bootstrap = []\n",
    "\n",
    "for i in range(n):\n",
    "    choice = np.random.choice(sample, size=N)\n",
    "    bootstrap.append((N+1) * np.max(choice) / (2*N+1) - h)\n",
    "\n",
    "sorted_bootstrap = np.sort(bootstrap)\n",
    "\n",
    "t1 = sorted_bootstrap[int((1-b) * n / 2)]\n",
    "t2 = sorted_bootstrap[int((1+b) * n / 2)]\n",
    "\n",
    "lb = h - t2\n",
    "ub = h - t1\n",
    "bs = (lb, ub)\n",
    "print(f'Бутстраповский доверительный интервал: ({lb}, {ub})')"
   ]
  },
  {
   "cell_type": "markdown",
   "metadata": {},
   "source": [
    "h)"
   ]
  },
  {
   "cell_type": "code",
   "execution_count": 87,
   "metadata": {},
   "outputs": [
    {
     "data": {
      "image/png": "[encoded data removed]",
      "text/plain": [
       "<Figure size 640x480 with 1 Axes>"
      ]
     },
     "metadata": {},
     "output_type": "display_data"
    }
   ],
   "source": [
    "for i, di in enumerate([toch, asymp, bs]):\n",
    "    plt.plot((di[0], di[1]),(i,i))\n",
    "\n",
    "_ = plt.yticks(range(3), [\"Точный\", \"Асимптотический\", \"Бутстрап\"])"
   ]
  }
 ],
 "metadata": {
  "kernelspec": {
   "display_name": "Python 3",
   "language": "python",
   "name": "python3"
  },
  "language_info": {
   "codemirror_mode": {
    "name": "ipython",
    "version": 3
   },
   "file_extension": ".py",
   "mimetype": "text/x-python",
   "name": "python",
   "nbconvert_exporter": "python",
   "pygments_lexer": "ipython3",
   "version": "3.11.8"
  }
 },
 "nbformat": 4,
 "nbformat_minor": 2
}
